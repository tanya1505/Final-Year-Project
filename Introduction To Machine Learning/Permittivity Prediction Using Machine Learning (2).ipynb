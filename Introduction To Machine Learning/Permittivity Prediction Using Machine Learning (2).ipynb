{
 "cells": [
  {
   "cell_type": "code",
   "execution_count": 1,
   "id": "ee48351a",
   "metadata": {},
   "outputs": [
    {
     "name": "stderr",
     "output_type": "stream",
     "text": [
      "C:\\Users\\hp\\anaconda3\\lib\\site-packages\\scipy\\__init__.py:138: UserWarning: A NumPy version >=1.16.5 and <1.23.0 is required for this version of SciPy (detected version 1.24.4)\n",
      "  warnings.warn(f\"A NumPy version >={np_minversion} and <{np_maxversion} is required for this version of \"\n"
     ]
    }
   ],
   "source": [
    "import pandas as pd\n",
    "import matplotlib.pyplot as plt\n",
    "import numpy as np\n",
    "import scipy.stats as stats"
   ]
  },
  {
   "cell_type": "code",
   "execution_count": 2,
   "id": "c1278ee9",
   "metadata": {},
   "outputs": [
    {
     "data": {
      "text/html": [
       "<div>\n",
       "<style scoped>\n",
       "    .dataframe tbody tr th:only-of-type {\n",
       "        vertical-align: middle;\n",
       "    }\n",
       "\n",
       "    .dataframe tbody tr th {\n",
       "        vertical-align: top;\n",
       "    }\n",
       "\n",
       "    .dataframe thead th {\n",
       "        text-align: right;\n",
       "    }\n",
       "</style>\n",
       "<table border=\"1\" class=\"dataframe\">\n",
       "  <thead>\n",
       "    <tr style=\"text-align: right;\">\n",
       "      <th></th>\n",
       "      <th>Concentration</th>\n",
       "      <th>FREQ[Hz]</th>\n",
       "      <th>e'</th>\n",
       "      <th>e\"</th>\n",
       "    </tr>\n",
       "  </thead>\n",
       "  <tbody>\n",
       "    <tr>\n",
       "      <th>0</th>\n",
       "      <td>0.0</td>\n",
       "      <td>20.0000</td>\n",
       "      <td>231.533263</td>\n",
       "      <td>37930.09417</td>\n",
       "    </tr>\n",
       "    <tr>\n",
       "      <th>1</th>\n",
       "      <td>0.0</td>\n",
       "      <td>21.1851</td>\n",
       "      <td>209.517273</td>\n",
       "      <td>35875.78238</td>\n",
       "    </tr>\n",
       "    <tr>\n",
       "      <th>2</th>\n",
       "      <td>0.0</td>\n",
       "      <td>22.4404</td>\n",
       "      <td>192.168742</td>\n",
       "      <td>33945.73225</td>\n",
       "    </tr>\n",
       "    <tr>\n",
       "      <th>3</th>\n",
       "      <td>0.0</td>\n",
       "      <td>23.7700</td>\n",
       "      <td>174.917445</td>\n",
       "      <td>32113.45936</td>\n",
       "    </tr>\n",
       "    <tr>\n",
       "      <th>4</th>\n",
       "      <td>0.0</td>\n",
       "      <td>25.1785</td>\n",
       "      <td>159.518876</td>\n",
       "      <td>30377.52578</td>\n",
       "    </tr>\n",
       "  </tbody>\n",
       "</table>\n",
       "</div>"
      ],
      "text/plain": [
       "   Concentration  FREQ[Hz]          e'           e\"\n",
       "0            0.0   20.0000  231.533263  37930.09417\n",
       "1            0.0   21.1851  209.517273  35875.78238\n",
       "2            0.0   22.4404  192.168742  33945.73225\n",
       "3            0.0   23.7700  174.917445  32113.45936\n",
       "4            0.0   25.1785  159.518876  30377.52578"
      ]
     },
     "execution_count": 2,
     "metadata": {},
     "output_type": "execute_result"
    }
   ],
   "source": [
    "df=pd.read_csv(\"data.csv\")\n",
    "df.head()"
   ]
  },
  {
   "cell_type": "code",
   "execution_count": 3,
   "id": "893529bf",
   "metadata": {},
   "outputs": [
    {
     "data": {
      "text/html": [
       "<div>\n",
       "<style scoped>\n",
       "    .dataframe tbody tr th:only-of-type {\n",
       "        vertical-align: middle;\n",
       "    }\n",
       "\n",
       "    .dataframe tbody tr th {\n",
       "        vertical-align: top;\n",
       "    }\n",
       "\n",
       "    .dataframe thead th {\n",
       "        text-align: right;\n",
       "    }\n",
       "</style>\n",
       "<table border=\"1\" class=\"dataframe\">\n",
       "  <thead>\n",
       "    <tr style=\"text-align: right;\">\n",
       "      <th></th>\n",
       "      <th>Concentration</th>\n",
       "      <th>FREQ[Hz]</th>\n",
       "      <th>e'</th>\n",
       "      <th>e\"</th>\n",
       "    </tr>\n",
       "  </thead>\n",
       "  <tbody>\n",
       "    <tr>\n",
       "      <th>count</th>\n",
       "      <td>3618.000000</td>\n",
       "      <td>3.618000e+03</td>\n",
       "      <td>3618.000000</td>\n",
       "      <td>3618.000000</td>\n",
       "    </tr>\n",
       "    <tr>\n",
       "      <th>mean</th>\n",
       "      <td>0.428333</td>\n",
       "      <td>1.778746e+05</td>\n",
       "      <td>12.839909</td>\n",
       "      <td>946.521864</td>\n",
       "    </tr>\n",
       "    <tr>\n",
       "      <th>std</th>\n",
       "      <td>0.278651</td>\n",
       "      <td>3.890976e+05</td>\n",
       "      <td>12.868103</td>\n",
       "      <td>3318.428102</td>\n",
       "    </tr>\n",
       "    <tr>\n",
       "      <th>min</th>\n",
       "      <td>0.000000</td>\n",
       "      <td>2.000000e+01</td>\n",
       "      <td>1.676067</td>\n",
       "      <td>-0.763485</td>\n",
       "    </tr>\n",
       "    <tr>\n",
       "      <th>25%</th>\n",
       "      <td>0.190000</td>\n",
       "      <td>3.556560e+02</td>\n",
       "      <td>7.588997</td>\n",
       "      <td>0.431308</td>\n",
       "    </tr>\n",
       "    <tr>\n",
       "      <th>50%</th>\n",
       "      <td>0.415000</td>\n",
       "      <td>6.324560e+03</td>\n",
       "      <td>11.321646</td>\n",
       "      <td>9.037004</td>\n",
       "    </tr>\n",
       "    <tr>\n",
       "      <th>75%</th>\n",
       "      <td>0.650000</td>\n",
       "      <td>1.124680e+05</td>\n",
       "      <td>14.991698</td>\n",
       "      <td>208.125955</td>\n",
       "    </tr>\n",
       "    <tr>\n",
       "      <th>max</th>\n",
       "      <td>1.000000</td>\n",
       "      <td>2.000000e+06</td>\n",
       "      <td>231.533263</td>\n",
       "      <td>37930.094170</td>\n",
       "    </tr>\n",
       "  </tbody>\n",
       "</table>\n",
       "</div>"
      ],
      "text/plain": [
       "       Concentration      FREQ[Hz]           e'            e\"\n",
       "count    3618.000000  3.618000e+03  3618.000000   3618.000000\n",
       "mean        0.428333  1.778746e+05    12.839909    946.521864\n",
       "std         0.278651  3.890976e+05    12.868103   3318.428102\n",
       "min         0.000000  2.000000e+01     1.676067     -0.763485\n",
       "25%         0.190000  3.556560e+02     7.588997      0.431308\n",
       "50%         0.415000  6.324560e+03    11.321646      9.037004\n",
       "75%         0.650000  1.124680e+05    14.991698    208.125955\n",
       "max         1.000000  2.000000e+06   231.533263  37930.094170"
      ]
     },
     "execution_count": 3,
     "metadata": {},
     "output_type": "execute_result"
    }
   ],
   "source": [
    "df.describe()"
   ]
  },
  {
   "cell_type": "code",
   "execution_count": 4,
   "id": "24e9b9e0",
   "metadata": {},
   "outputs": [
    {
     "name": "stdout",
     "output_type": "stream",
     "text": [
      "<class 'pandas.core.frame.DataFrame'>\n",
      "RangeIndex: 3618 entries, 0 to 3617\n",
      "Data columns (total 4 columns):\n",
      " #   Column         Non-Null Count  Dtype  \n",
      "---  ------         --------------  -----  \n",
      " 0   Concentration  3618 non-null   float64\n",
      " 1   FREQ[Hz]       3618 non-null   float64\n",
      " 2   e'             3618 non-null   float64\n",
      " 3   e\"             3618 non-null   float64\n",
      "dtypes: float64(4)\n",
      "memory usage: 113.2 KB\n"
     ]
    }
   ],
   "source": [
    "df.info()"
   ]
  },
  {
   "cell_type": "code",
   "execution_count": 5,
   "id": "1fa2e3ab",
   "metadata": {},
   "outputs": [
    {
     "data": {
      "text/plain": [
       "Concentration    0\n",
       "FREQ[Hz]         0\n",
       "e'               0\n",
       "e\"               0\n",
       "dtype: int64"
      ]
     },
     "execution_count": 5,
     "metadata": {},
     "output_type": "execute_result"
    }
   ],
   "source": [
    "df.isnull().sum()"
   ]
  },
  {
   "cell_type": "code",
   "execution_count": 29,
   "id": "631b3282",
   "metadata": {},
   "outputs": [
    {
     "data": {
      "text/html": [
       "<div>\n",
       "<style scoped>\n",
       "    .dataframe tbody tr th:only-of-type {\n",
       "        vertical-align: middle;\n",
       "    }\n",
       "\n",
       "    .dataframe tbody tr th {\n",
       "        vertical-align: top;\n",
       "    }\n",
       "\n",
       "    .dataframe thead th {\n",
       "        text-align: right;\n",
       "    }\n",
       "</style>\n",
       "<table border=\"1\" class=\"dataframe\">\n",
       "  <thead>\n",
       "    <tr style=\"text-align: right;\">\n",
       "      <th></th>\n",
       "      <th>Concentration</th>\n",
       "      <th>FREQ[Hz]</th>\n",
       "      <th>e'</th>\n",
       "      <th>e\"</th>\n",
       "    </tr>\n",
       "  </thead>\n",
       "  <tbody>\n",
       "    <tr>\n",
       "      <th>Concentration</th>\n",
       "      <td>1.000000e+00</td>\n",
       "      <td>-1.160705e-16</td>\n",
       "      <td>-0.496372</td>\n",
       "      <td>-0.288494</td>\n",
       "    </tr>\n",
       "    <tr>\n",
       "      <th>FREQ[Hz]</th>\n",
       "      <td>-1.160705e-16</td>\n",
       "      <td>1.000000e+00</td>\n",
       "      <td>-0.072130</td>\n",
       "      <td>-0.130261</td>\n",
       "    </tr>\n",
       "    <tr>\n",
       "      <th>e'</th>\n",
       "      <td>-4.963725e-01</td>\n",
       "      <td>-7.212995e-02</td>\n",
       "      <td>1.000000</td>\n",
       "      <td>0.908579</td>\n",
       "    </tr>\n",
       "    <tr>\n",
       "      <th>e\"</th>\n",
       "      <td>-2.884939e-01</td>\n",
       "      <td>-1.302608e-01</td>\n",
       "      <td>0.908579</td>\n",
       "      <td>1.000000</td>\n",
       "    </tr>\n",
       "  </tbody>\n",
       "</table>\n",
       "</div>"
      ],
      "text/plain": [
       "               Concentration      FREQ[Hz]        e'        e\"\n",
       "Concentration   1.000000e+00 -1.160705e-16 -0.496372 -0.288494\n",
       "FREQ[Hz]       -1.160705e-16  1.000000e+00 -0.072130 -0.130261\n",
       "e'             -4.963725e-01 -7.212995e-02  1.000000  0.908579\n",
       "e\"             -2.884939e-01 -1.302608e-01  0.908579  1.000000"
      ]
     },
     "execution_count": 29,
     "metadata": {},
     "output_type": "execute_result"
    }
   ],
   "source": [
    "df.corr()"
   ]
  },
  {
   "cell_type": "code",
   "execution_count": 6,
   "id": "1a78efa8",
   "metadata": {},
   "outputs": [
    {
     "data": {
      "image/png": "[encoded data removed]",
      "text/plain": [
       "<Figure size 432x288 with 1 Axes>"
      ]
     },
     "metadata": {
      "needs_background": "light"
     },
     "output_type": "display_data"
    },
    {
     "name": "stdout",
     "output_type": "stream",
     "text": [
      "Text(0.5, 17.200000000000003, 'e\"') Text(17.200000000000003, 0.5, \"e'\") None\n"
     ]
    },
    {
     "data": {
      "image/png": "[encoded data removed]",
      "text/plain": [
       "<Figure size 432x288 with 1 Axes>"
      ]
     },
     "metadata": {
      "needs_background": "light"
     },
     "output_type": "display_data"
    },
    {
     "name": "stdout",
     "output_type": "stream",
     "text": [
      "Text(0.5, 17.200000000000003, 'e\"') Text(17.200000000000003, 0.5, 'FREQ[Hz]') None\n"
     ]
    },
    {
     "data": {
      "image/png": "[encoded data removed]",
      "text/plain": [
       "<Figure size 432x288 with 1 Axes>"
      ]
     },
     "metadata": {
      "needs_background": "light"
     },
     "output_type": "display_data"
    },
    {
     "name": "stdout",
     "output_type": "stream",
     "text": [
      "Text(0.5, 17.200000000000003, 'e\"') Text(17.200000000000003, 0.5, 'Concentration') None\n"
     ]
    },
    {
     "data": {
      "image/png": "[encoded data removed]",
      "text/plain": [
       "<Figure size 432x288 with 1 Axes>"
      ]
     },
     "metadata": {
      "needs_background": "light"
     },
     "output_type": "display_data"
    },
    {
     "name": "stdout",
     "output_type": "stream",
     "text": [
      "Text(0.5, 17.200000000000003, \"e'\") Text(17.200000000000003, 0.5, 'Concentration') None\n"
     ]
    },
    {
     "data": {
      "image/png": "[encoded data removed]",
      "text/plain": [
       "<Figure size 432x288 with 1 Axes>"
      ]
     },
     "metadata": {
      "needs_background": "light"
     },
     "output_type": "display_data"
    },
    {
     "name": "stdout",
     "output_type": "stream",
     "text": [
      "Text(0.5, 17.200000000000003, \"e'\") Text(17.200000000000003, 0.5, 'FREQ[Hz]') None\n"
     ]
    },
    {
     "data": {
      "image/png": "[encoded data removed]",
      "text/plain": [
       "<Figure size 432x288 with 1 Axes>"
      ]
     },
     "metadata": {
      "needs_background": "light"
     },
     "output_type": "display_data"
    },
    {
     "name": "stdout",
     "output_type": "stream",
     "text": [
      "Text(0.5, 17.200000000000003, 'Concentration') Text(17.200000000000003, 0.5, 'FREQ[Hz]') None\n"
     ]
    }
   ],
   "source": [
    "# correlation\n",
    "def corr_reg_r(x,y):\n",
    "  plt.scatter(x, y)\n",
    "\n",
    "  #regression line\n",
    "  b, a = np.polyfit(x, y, deg=1)\n",
    "\n",
    "  #r value\n",
    "  r, p = stats.pearsonr(x, y)\n",
    "  plt.annotate('r = {:.2f}'.format(r), xy=(0.7, 0.9), xycoords='axes fraction')\n",
    "\n",
    "\n",
    "  #label the plot\n",
    "\n",
    "  plt.title('Scatter plot with correlation coefficient')\n",
    "  \n",
    "  plt.plot(x, b*x+a,color=\"black\")\n",
    "\n",
    "  plt.show()\n",
    "\n",
    "print(plt.xlabel('e\"')\n",
    "      ,plt.ylabel(\"e'\"),\n",
    "      corr_reg_r(df['e\"'],df[\"e'\"])\n",
    "      )\n",
    "print(plt.xlabel('e\"')\n",
    "      ,plt.ylabel(\"FREQ[Hz]\"),\n",
    "      corr_reg_r(df['e\"'],df[\"FREQ[Hz]\"]))\n",
    "print(plt.xlabel('e\"')\n",
    "      ,plt.ylabel(\"Concentration\"),\n",
    "      corr_reg_r(df['e\"'],df[\"Concentration\"]))\n",
    "print(plt.xlabel(\"e'\")\n",
    "      ,plt.ylabel(\"Concentration\"),\n",
    "      corr_reg_r(df[\"e'\"],df[\"Concentration\"]))\n",
    "print(plt.xlabel(\"e'\")\n",
    "      ,plt.ylabel(\"FREQ[Hz]\"),\n",
    "      corr_reg_r(df[\"e'\"],df[\"FREQ[Hz]\"]))\n",
    "print(plt.xlabel(\"Concentration\")\n",
    "      ,plt.ylabel(\"FREQ[Hz]\"),\n",
    "      corr_reg_r(df[\"Concentration\"],df[\"FREQ[Hz]\"]))"
   ]
  },
  {
   "cell_type": "code",
   "execution_count": null,
   "id": "a40a79bc",
   "metadata": {},
   "outputs": [],
   "source": [
    "#check duplicate\n",
    "duplicate = df[df.duplicated()]\n",
    " \n",
    "print(\"Duplicate Rows :\",duplicate)"
   ]
  },
  {
   "cell_type": "code",
   "execution_count": 7,
   "id": "18557bac",
   "metadata": {},
   "outputs": [
    {
     "data": {
      "text/html": [
       "<div>\n",
       "<style scoped>\n",
       "    .dataframe tbody tr th:only-of-type {\n",
       "        vertical-align: middle;\n",
       "    }\n",
       "\n",
       "    .dataframe tbody tr th {\n",
       "        vertical-align: top;\n",
       "    }\n",
       "\n",
       "    .dataframe thead th {\n",
       "        text-align: right;\n",
       "    }\n",
       "</style>\n",
       "<table border=\"1\" class=\"dataframe\">\n",
       "  <thead>\n",
       "    <tr style=\"text-align: right;\">\n",
       "      <th></th>\n",
       "      <th>Concentration</th>\n",
       "      <th>FREQ[Hz]</th>\n",
       "      <th>e'</th>\n",
       "      <th>e\"</th>\n",
       "    </tr>\n",
       "  </thead>\n",
       "  <tbody>\n",
       "    <tr>\n",
       "      <th>0</th>\n",
       "      <td>0.0</td>\n",
       "      <td>0.000000e+00</td>\n",
       "      <td>1.000000</td>\n",
       "      <td>1.000000</td>\n",
       "    </tr>\n",
       "    <tr>\n",
       "      <th>1</th>\n",
       "      <td>0.0</td>\n",
       "      <td>5.925559e-07</td>\n",
       "      <td>0.904219</td>\n",
       "      <td>0.891681</td>\n",
       "    </tr>\n",
       "    <tr>\n",
       "      <th>2</th>\n",
       "      <td>0.0</td>\n",
       "      <td>1.220212e-06</td>\n",
       "      <td>0.828744</td>\n",
       "      <td>0.789914</td>\n",
       "    </tr>\n",
       "    <tr>\n",
       "      <th>3</th>\n",
       "      <td>0.0</td>\n",
       "      <td>1.885019e-06</td>\n",
       "      <td>0.753691</td>\n",
       "      <td>0.693303</td>\n",
       "    </tr>\n",
       "    <tr>\n",
       "      <th>4</th>\n",
       "      <td>0.0</td>\n",
       "      <td>2.589276e-06</td>\n",
       "      <td>0.686699</td>\n",
       "      <td>0.601772</td>\n",
       "    </tr>\n",
       "  </tbody>\n",
       "</table>\n",
       "</div>"
      ],
      "text/plain": [
       "   Concentration      FREQ[Hz]        e'        e\"\n",
       "0            0.0  0.000000e+00  1.000000  1.000000\n",
       "1            0.0  5.925559e-07  0.904219  0.891681\n",
       "2            0.0  1.220212e-06  0.828744  0.789914\n",
       "3            0.0  1.885019e-06  0.753691  0.693303\n",
       "4            0.0  2.589276e-06  0.686699  0.601772"
      ]
     },
     "execution_count": 7,
     "metadata": {},
     "output_type": "execute_result"
    }
   ],
   "source": [
    "#normalise\n",
    "#frequency\n",
    "freq=(df[\"FREQ[Hz]\"]- df[\"FREQ[Hz]\"].min()) / (df[\"FREQ[Hz]\"].max() - df[\"FREQ[Hz]\"].min())\n",
    "#e'\n",
    "e_new=(df[\"e'\"] - df[\"e'\"].min()) / (df[\"e'\"].max() - df[\"e'\"].min())\n",
    "\n",
    "\n",
    "from sklearn.preprocessing import MinMaxScaler\n",
    "\n",
    "scaler = MinMaxScaler(feature_range=(-1, 1))\n",
    "scaled_e_dp = scaler.fit_transform([[x] for x in df['e\"']])\n",
    "\n",
    "#drop the unwanted data\n",
    "df=df.drop(['e\"',\"e'\",\"FREQ[Hz]\"],axis=1)\n",
    "\n",
    "df[\"FREQ[Hz]\"]=freq\n",
    "df[\"e'\"]=e_new\n",
    "df['e\"']=scaled_e_dp\n",
    "df.head()"
   ]
  },
  {
   "cell_type": "code",
   "execution_count": 8,
   "id": "c92258bf",
   "metadata": {},
   "outputs": [
    {
     "data": {
      "text/html": [
       "<div>\n",
       "<style scoped>\n",
       "    .dataframe tbody tr th:only-of-type {\n",
       "        vertical-align: middle;\n",
       "    }\n",
       "\n",
       "    .dataframe tbody tr th {\n",
       "        vertical-align: top;\n",
       "    }\n",
       "\n",
       "    .dataframe thead th {\n",
       "        text-align: right;\n",
       "    }\n",
       "</style>\n",
       "<table border=\"1\" class=\"dataframe\">\n",
       "  <thead>\n",
       "    <tr style=\"text-align: right;\">\n",
       "      <th></th>\n",
       "      <th>Concentration</th>\n",
       "      <th>FREQ[Hz]</th>\n",
       "      <th>e'</th>\n",
       "      <th>e\"</th>\n",
       "    </tr>\n",
       "  </thead>\n",
       "  <tbody>\n",
       "    <tr>\n",
       "      <th>count</th>\n",
       "      <td>3618.000000</td>\n",
       "      <td>3618.000000</td>\n",
       "      <td>3618.000000</td>\n",
       "      <td>3618.000000</td>\n",
       "    </tr>\n",
       "    <tr>\n",
       "      <th>mean</th>\n",
       "      <td>0.428333</td>\n",
       "      <td>0.088928</td>\n",
       "      <td>0.048569</td>\n",
       "      <td>-0.950052</td>\n",
       "    </tr>\n",
       "    <tr>\n",
       "      <th>std</th>\n",
       "      <td>0.278651</td>\n",
       "      <td>0.194551</td>\n",
       "      <td>0.055983</td>\n",
       "      <td>0.174972</td>\n",
       "    </tr>\n",
       "    <tr>\n",
       "      <th>min</th>\n",
       "      <td>0.000000</td>\n",
       "      <td>0.000000</td>\n",
       "      <td>0.000000</td>\n",
       "      <td>-1.000000</td>\n",
       "    </tr>\n",
       "    <tr>\n",
       "      <th>25%</th>\n",
       "      <td>0.190000</td>\n",
       "      <td>0.000168</td>\n",
       "      <td>0.025724</td>\n",
       "      <td>-0.999937</td>\n",
       "    </tr>\n",
       "    <tr>\n",
       "      <th>50%</th>\n",
       "      <td>0.415000</td>\n",
       "      <td>0.003152</td>\n",
       "      <td>0.041963</td>\n",
       "      <td>-0.999483</td>\n",
       "    </tr>\n",
       "    <tr>\n",
       "      <th>75%</th>\n",
       "      <td>0.650000</td>\n",
       "      <td>0.056225</td>\n",
       "      <td>0.057930</td>\n",
       "      <td>-0.988986</td>\n",
       "    </tr>\n",
       "    <tr>\n",
       "      <th>max</th>\n",
       "      <td>1.000000</td>\n",
       "      <td>1.000000</td>\n",
       "      <td>1.000000</td>\n",
       "      <td>1.000000</td>\n",
       "    </tr>\n",
       "  </tbody>\n",
       "</table>\n",
       "</div>"
      ],
      "text/plain": [
       "       Concentration     FREQ[Hz]           e'           e\"\n",
       "count    3618.000000  3618.000000  3618.000000  3618.000000\n",
       "mean        0.428333     0.088928     0.048569    -0.950052\n",
       "std         0.278651     0.194551     0.055983     0.174972\n",
       "min         0.000000     0.000000     0.000000    -1.000000\n",
       "25%         0.190000     0.000168     0.025724    -0.999937\n",
       "50%         0.415000     0.003152     0.041963    -0.999483\n",
       "75%         0.650000     0.056225     0.057930    -0.988986\n",
       "max         1.000000     1.000000     1.000000     1.000000"
      ]
     },
     "execution_count": 8,
     "metadata": {},
     "output_type": "execute_result"
    }
   ],
   "source": [
    "df.describe()"
   ]
  },
  {
   "cell_type": "code",
   "execution_count": 9,
   "id": "03b55df4",
   "metadata": {},
   "outputs": [],
   "source": [
    "#df.to_csv(\"cleaned_data.csv\")"
   ]
  },
  {
   "cell_type": "markdown",
   "id": "ab292a46",
   "metadata": {},
   "source": [
    "<h2>XGBoost</h2>"
   ]
  },
  {
   "cell_type": "code",
   "execution_count": 12,
   "id": "26af001d",
   "metadata": {},
   "outputs": [
    {
     "name": "stdout",
     "output_type": "stream",
     "text": [
      "RMSE :  0.011036\n",
      "Mean Squared Error (MSE): 0.00012178471040109018\n",
      "R-squared: 0.9896251040136261\n"
     ]
    },
    {
     "name": "stderr",
     "output_type": "stream",
     "text": [
      "C:\\Users\\hp\\anaconda3\\lib\\site-packages\\xgboost\\core.py:160: UserWarning: [14:07:44] WARNING: C:\\buildkite-agent\\builds\\buildkite-windows-cpu-autoscaling-group-i-0750514818a16474a-1\\xgboost\\xgboost-ci-windows\\src\\objective\\regression_obj.cu:209: reg:linear is now deprecated in favor of reg:squarederror.\n",
      "  warnings.warn(smsg, UserWarning)\n"
     ]
    }
   ],
   "source": [
    "import xgboost as xg \n",
    "from sklearn.model_selection import train_test_split \n",
    "from sklearn.metrics import mean_squared_error as MSE \n",
    "from sklearn.metrics import accuracy_score   \n",
    "from sklearn.metrics import  r2_score\n",
    "from sklearn.multioutput import MultiOutputRegressor\n",
    "\n",
    "X=df.iloc[:, [0,1]].values  \n",
    "y=df.iloc[:, [2,3]].values\n",
    "\n",
    "# Splitting \n",
    "train_X, test_X, train_y, test_y = train_test_split(X, y, \n",
    "                      test_size = 0.3, random_state = 123) \n",
    "  \n",
    "# Instantiation \n",
    "xgb_r = xg.XGBRegressor(objective ='reg:linear', \n",
    "                  n_estimators = 10, seed = 123) \n",
    "\n",
    "# multiple output\n",
    "multioutput_regressor = MultiOutputRegressor(xgb_r)\n",
    "\n",
    "# Fitting the model \n",
    "multioutput_regressor.fit(train_X,train_y) \n",
    "  \n",
    "# Predict the model \n",
    "pred = multioutput_regressor.predict(test_X) \n",
    "\n",
    "# RMSE Computation \n",
    "rmse = np.sqrt(MSE(test_y, pred)) \n",
    "mse = MSE(test_y, pred)\n",
    "r2 = r2_score(test_y, pred)\n",
    "print(\"RMSE : % f\" %(rmse)) \n",
    "print(f\"Mean Squared Error (MSE): {mse}\")\n",
    "print(f\"R-squared: {r2}\")\n"
   ]
  },
  {
   "cell_type": "markdown",
   "id": "b7dbb1c9",
   "metadata": {},
   "source": [
    "<h2>Linear regression</h2>"
   ]
  },
  {
   "cell_type": "code",
   "execution_count": 13,
   "id": "dad3ae5f",
   "metadata": {},
   "outputs": [
    {
     "name": "stdout",
     "output_type": "stream",
     "text": [
      "prediction: [[ 0.02300927 -0.99037755]\n",
      " [ 0.06418096 -0.93740145]\n",
      " [ 0.08500169 -0.8800569 ]\n",
      " ...\n",
      " [-0.00779191 -1.04633014]\n",
      " [ 0.08547292 -0.87750357]\n",
      " [ 0.0753758  -0.89523365]]\n",
      "Mean Squared Error (MSE): 0.012104568073036719\n",
      "R-squared: 0.21290306911634055\n",
      "RMSE :  0.110021\n"
     ]
    }
   ],
   "source": [
    "from sklearn import linear_model\n",
    "regr = linear_model.LinearRegression()\n",
    "\n",
    "multioutput_regressor = MultiOutputRegressor(regr)\n",
    "multioutput_regressor.fit(train_X,train_y) \n",
    "  \n",
    "# Predict the model \n",
    "pred = multioutput_regressor.predict(test_X)\n",
    "print(\"prediction:\", pred)\n",
    "\n",
    "mse = MSE(test_y, pred)\n",
    "r2 = r2_score(test_y, pred)\n",
    "rmse = np.sqrt(MSE(test_y, pred)) \n",
    "print(f\"Mean Squared Error (MSE): {mse}\")\n",
    "print(f\"R-squared: {r2}\")\n",
    "print(\"RMSE : % f\" %(rmse))"
   ]
  },
  {
   "cell_type": "markdown",
   "id": "c0f3f9d6",
   "metadata": {},
   "source": [
    "<h2>Random forest regression (on Both target values together)</h2>"
   ]
  },
  {
   "cell_type": "code",
   "execution_count": 14,
   "id": "bda125c2",
   "metadata": {
    "scrolled": true
   },
   "outputs": [
    {
     "name": "stdout",
     "output_type": "stream",
     "text": [
      "Out-of-Bag Score: 0.8202550151678529\n",
      "prediction:  [[ 0.02337938 -0.99830007]\n",
      " [ 0.05203052 -0.99993653]\n",
      " [ 0.06215295 -0.99935107]\n",
      " ...\n",
      " [ 0.00482282 -0.99996045]\n",
      " [ 0.06234502 -0.99760444]\n",
      " [ 0.09358608 -0.62800376]]\n",
      "Mean Squared Error: 6.22999246129268e-05\n",
      "R-squared: 0.9927674785169756\n",
      "RMSE :  0.007893\n"
     ]
    },
    {
     "name": "stderr",
     "output_type": "stream",
     "text": [
      "C:\\Users\\hp\\anaconda3\\lib\\site-packages\\sklearn\\ensemble\\_forest.py:833: UserWarning: Some inputs do not have OOB scores. This probably means too few trees were used to compute any reliable oob estimates.\n",
      "  warn(\"Some inputs do not have OOB scores. \"\n"
     ]
    }
   ],
   "source": [
    "from sklearn.preprocessing import LabelEncoder\n",
    "from sklearn.impute import KNNImputer\n",
    "from sklearn.model_selection import train_test_split\n",
    "from sklearn.preprocessing import StandardScaler\n",
    "from sklearn.metrics import f1_score\n",
    "from sklearn.ensemble import RandomForestRegressor\n",
    "from sklearn.model_selection import cross_val_score\n",
    "\n",
    "\n",
    "# Fitting Random Forest Regression to the dataset\n",
    "regressor = RandomForestRegressor\n",
    "(n_estimators=10, random_state=10, oob_score=True)\n",
    " \n",
    "# Fit the regressor with x and y data\n",
    "regressor.fit(train_X,train_y)\n",
    "\n",
    "from sklearn.metrics import mean_squared_error, r2_score\n",
    " \n",
    "# Access the OOB Score\n",
    "oob_score = regressor.oob_score_\n",
    "print(f'Out-of-Bag Score: {oob_score}')\n",
    " \n",
    "# Making predictions on the same data or new data\n",
    "predictions = regressor.predict(test_X)\n",
    "print(\"prediction: \", predictions)\n",
    "# Evaluating the model\n",
    "mse = mean_squared_error(test_y, predictions)\n",
    "print(f'Mean Squared Error: {mse}')\n",
    " \n",
    "r2 = r2_score(test_y, predictions)\n",
    "print(f'R-squared: {r2}')\n",
    "\n",
    "rmse = np.sqrt(MSE(test_y, predictions)) \n",
    "print(\"RMSE : % f\" %(rmse))"
   ]
  },
  {
   "cell_type": "markdown",
   "id": "3b179081",
   "metadata": {},
   "source": [
    "<h2> Random Forest Regressor (On individual target variables)</h2>"
   ]
  },
  {
   "cell_type": "code",
   "execution_count": 25,
   "id": "f2a44cc2",
   "metadata": {},
   "outputs": [
    {
     "name": "stdout",
     "output_type": "stream",
     "text": [
      "Metrics for e':\n",
      "Mean Squared Error (MSE): 3.657476804753659e-05\n",
      "R-squared: 0.9901788490048588\n",
      "RMSE :  0.006048\n",
      "\n",
      "Metrics for e\":\n",
      "Mean Squared Error (MSE): 0.00010379695540042654\n",
      "R-squared: 0.9971778169885668\n",
      "RMSE :  0.010188\n"
     ]
    }
   ],
   "source": [
    "\n",
    "data = pd.read_csv('cleaned_data.csv')\n",
    "\n",
    "# Assuming 'e'' and 'e\"' are the target variables and 'Concentration', 'FREQ[Hz]' are features\n",
    "X = data[['Concentration', 'FREQ[Hz]']]\n",
    "y = data[['e\\'', 'e\"']]  # Target variables 'e'' and 'e\"'\n",
    "\n",
    "# Split the data into training and testing sets (adjust test_size and random_state as needed)\n",
    "X_train, X_test, y_train, y_test = train_test_split\n",
    "(X, y, test_size=0.2, random_state=42)\n",
    "\n",
    "# Initialize and fit the Random Forest Regression model for 'e\\''\n",
    "rf_model_e1 = RandomForestRegressor(n_estimators=100, random_state=42)\n",
    "rf_model_e1.fit(X_train, y_train['e\\''])\n",
    "\n",
    "# Make predictions for 'e\\''\n",
    "predictions_e1 = rf_model_e1.predict(X_test)\n",
    "\n",
    "# Initialize and fit the Random Forest Regression model for 'e\\\"'\n",
    "rf_model_e2 = RandomForestRegressor(n_estimators=100, random_state=42)\n",
    "rf_model_e2.fit(X_train, y_train['e\"'])\n",
    "\n",
    "# Make predictions for 'e\\\"'\n",
    "predictions_e2 = rf_model_e2.predict(X_test)\n",
    "\n",
    "# Calculate metrics for 'e\\''\n",
    "mse_e1 = mean_squared_error(y_test['e\\''], predictions_e1)\n",
    "r2_e1 = r2_score(y_test['e\\''], predictions_e1)\n",
    "rmse_e1 = np.sqrt(mean_squared_error(y_test['e\\''], predictions_e1))\n",
    "\n",
    "\n",
    "# Calculate metrics for 'e\\\"'\n",
    "mse_e2 = mean_squared_error(y_test['e\"'], predictions_e2)\n",
    "r2_e2 = r2_score(y_test['e\"'], predictions_e2)\n",
    "rmse_e2 = np.sqrt(mean_squared_error(y_test['e\"'], predictions_e2))\n",
    "\n",
    "\n",
    "print(\"Metrics for e':\")\n",
    "print(f\"Mean Squared Error (MSE): {mse_e1}\")\n",
    "print(f\"R-squared: {r2_e1}\")\n",
    "print(\"RMSE : % f\" %(rmse_e1)) \n",
    "\n",
    "print(\"\\nMetrics for e\\\":\")\n",
    "print(f\"Mean Squared Error (MSE): {mse_e2}\")\n",
    "print(f\"R-squared: {r2_e2}\")\n",
    "print(\"RMSE : % f\" %(rmse_e2)) \n"
   ]
  },
  {
   "cell_type": "markdown",
   "id": "738a0d2a",
   "metadata": {},
   "source": [
    "<h2>Gradient Boosting Regression</h2>"
   ]
  },
  {
   "cell_type": "code",
   "execution_count": 28,
   "id": "84061123",
   "metadata": {},
   "outputs": [
    {
     "name": "stdout",
     "output_type": "stream",
     "text": [
      "Metrics for e':\n",
      "Mean Squared Error (MSE): 1.65931025783402e-05\n",
      "R-squared: 0.995544377323516\n",
      "RMSE :  0.004073\n",
      "\n",
      "Metrics for e\":\n",
      "Mean Squared Error (MSE): 9.246169774562093e-05\n",
      "R-squared: 0.997486016506175\n",
      "RMSE :  0.009616\n",
      "\n",
      "Metrics :\n",
      "Mean Squared Error (MSE): 5.4527400161980566e-05\n",
      "R-squared: 0.9965151969148455\n",
      "RMSE :  0.007384\n"
     ]
    }
   ],
   "source": [
    "from sklearn.ensemble import GradientBoostingRegressor\n",
    "\n",
    "# Load your dataset (make sure to upload your dataset to Colab first)\n",
    "data = pd.read_csv('cleaned_data.csv')\n",
    "\n",
    "# Assuming 'e\\'' and 'e\"' are the target variables and 'Concentration', 'FREQ[Hz]' are features\n",
    "X = data[['Concentration', 'FREQ[Hz]']]\n",
    "y = data[['e\\'', 'e\"']]  # Target variables 'e\\'' and 'e\"'\n",
    "\n",
    "# Split the data into training and testing sets (adjust test_size and random_state as needed)\n",
    "X_train, X_test, y_train, y_test = train_test_split(X, y, test_size=0.2, random_state=42)\n",
    "\n",
    "# Initialize and fit the Gradient Boosting Regression model for 'e\\''\n",
    "gbr_model_e1 = GradientBoostingRegressor(n_estimators=100, learning_rate=0.1, random_state=42)\n",
    "gbr_model_e1.fit(X_train, y_train['e\\''])\n",
    "\n",
    "# Make predictions for 'e\\''\n",
    "predictions_e1 = gbr_model_e1.predict(X_test)\n",
    "\n",
    "# Initialize and fit the Gradient Boosting Regression model for 'e\\\"'\n",
    "gbr_model_e2 = GradientBoostingRegressor(n_estimators=100, learning_rate=0.1, random_state=42)\n",
    "gbr_model_e2.fit(X_train, y_train['e\"'])\n",
    "\n",
    "# Make predictions for 'e\\\"'\n",
    "predictions_e2 = gbr_model_e2.predict(X_test)\n",
    "\n",
    "# Calculate metrics for 'e\\''\n",
    "mse_e1 = mean_squared_error(y_test['e\\''], predictions_e1)\n",
    "r2_e1 = r2_score(y_test['e\\''], predictions_e1)\n",
    "rmse_e1 = np.sqrt(mean_squared_error(y_test['e\\''], predictions_e1))\n",
    "\n",
    "# Calculate metrics for 'e\\\"'\n",
    "mse_e2 = mean_squared_error(y_test['e\"'], predictions_e2)\n",
    "r2_e2 = r2_score(y_test['e\"'], predictions_e2)\n",
    "rmse_e2 = np.sqrt(mean_squared_error(y_test['e\"'], predictions_e2))\n",
    "\n",
    "print(\"Metrics for e':\")\n",
    "print(f\"Mean Squared Error (MSE): {mse_e1}\")\n",
    "print(f\"R-squared: {r2_e1}\")\n",
    "print(\"RMSE : % f\" %(rmse_e1)) \n",
    "\n",
    "print(\"\\nMetrics for e\\\":\")\n",
    "print(f\"Mean Squared Error (MSE): {mse_e2}\")\n",
    "print(f\"R-squared: {r2_e2}\")\n",
    "print(\"RMSE : % f\" %(rmse_e2)) \n",
    "\n",
    "#for both\n",
    "\n",
    "gbr= GradientBoostingRegressor\n",
    "(n_estimators=100, learning_rate=0.1, random_state=42)\n",
    "gbr_model = MultiOutputRegressor(gbr)\n",
    "gbr_model.fit(X_train, y_train)\n",
    "\n",
    "# Make predictions for 'e\\''\n",
    "predictions = gbr_model.predict(X_test)\n",
    "\n",
    "mse = mean_squared_error(y_test, predictions)\n",
    "r2 = r2_score(y_test, predictions)\n",
    "rmse = np.sqrt(mean_squared_error(y_test, predictions))\n",
    "\n",
    "print(\"\\nMetrics :\")\n",
    "print(f\"Mean Squared Error (MSE): {mse}\")\n",
    "print(f\"R-squared: {r2}\")\n",
    "print(\"RMSE : % f\" %(rmse))"
   ]
  },
  {
   "cell_type": "code",
   "execution_count": null,
   "id": "1a4b6d6c",
   "metadata": {},
   "outputs": [],
   "source": []
  }
 ],
 "metadata": {
  "kernelspec": {
   "display_name": "Python 3",
   "language": "python",
   "name": "python3"
  },
  "language_info": {
   "codemirror_mode": {
    "name": "ipython",
    "version": 3
   },
   "file_extension": ".py",
   "mimetype": "text/x-python",
   "name": "python",
   "nbconvert_exporter": "python",
   "pygments_lexer": "ipython3",
   "version": "3.8.8"
  }
 },
 "nbformat": 4,
 "nbformat_minor": 5
}
